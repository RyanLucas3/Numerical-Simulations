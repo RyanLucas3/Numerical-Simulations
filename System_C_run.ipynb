{
 "cells": [
  {
   "cell_type": "code",
   "execution_count": 1,
   "source": [
    "import numpy as np\n",
    "from System_C_main import *"
   ],
   "outputs": [],
   "metadata": {}
  },
  {
   "cell_type": "code",
   "execution_count": 2,
   "source": [
    "### Simulation Specifications ###\n",
    "T = np.arange(1, 114)\n",
    "C_1 = [15, 0.01, 0.01]\n",
    "t_simu_list = [50, 70]\n",
    "C_2 = [-0.01, 0.1]\n",
    "W = [20, 40]\n",
    "P = np.arange(1, 4)\n",
    "k = 3\n",
    "N = np.arange(0,10000)\n",
    "learning_function = [10, 2, 0.95, '(AR2, w20)']"
   ],
   "outputs": [],
   "metadata": {}
  }
 ],
 "metadata": {
  "interpreter": {
   "hash": "4e7a58de4b7e505b0e82f0adcc21bb9621f61c2c1c0bdf66b0394a18a0c298a7"
  },
  "kernelspec": {
   "name": "python3",
   "display_name": "Python 3.8.8 64-bit ('base': conda)"
  },
  "language_info": {
   "codemirror_mode": {
    "name": "ipython",
    "version": 3
   },
   "file_extension": ".py",
   "mimetype": "text/x-python",
   "name": "python",
   "nbconvert_exporter": "python",
   "pygments_lexer": "ipython3",
   "version": "3.8.8"
  }
 },
 "nbformat": 4,
 "nbformat_minor": 2
}